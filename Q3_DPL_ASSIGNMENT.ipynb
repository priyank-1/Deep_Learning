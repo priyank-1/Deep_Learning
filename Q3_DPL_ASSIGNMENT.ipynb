{
  "nbformat": 4,
  "nbformat_minor": 0,
  "metadata": {
    "colab": {
      "provenance": [],
      "gpuType": "T4",
      "authorship_tag": "ABX9TyO0Prfg8OseHgzzkVahaLVL",
      "include_colab_link": true
    },
    "kernelspec": {
      "name": "python3",
      "display_name": "Python 3"
    },
    "language_info": {
      "name": "python"
    },
    "accelerator": "GPU"
  },
  "cells": [
    {
      "cell_type": "markdown",
      "metadata": {
        "id": "view-in-github",
        "colab_type": "text"
      },
      "source": [
        "<a href=\"https://colab.research.google.com/github/priyank-1/Deep_Learning/blob/main/Q3_DPL_ASSIGNMENT.ipynb\" target=\"_parent\"><img src=\"https://colab.research.google.com/assets/colab-badge.svg\" alt=\"Open In Colab\"/></a>"
      ]
    },
    {
      "cell_type": "code",
      "source": [
        "# !pip install scikeras\n",
        "# !pip install --upgrade python\n",
        "\n",
        "# !pip install keras\n",
        "# !pip install imblearn\n",
        "# !pip install imbalanced-learn\n",
        "# !pip install --upgrade scikit-learn\n",
        "# !pip install --upgrade keras\n",
        "# import sklearn\n",
        "# print(sklearn.__version__)\n"
      ],
      "metadata": {
        "id": "NBwZNpHsRMfO"
      },
      "execution_count": 1,
      "outputs": []
    },
    {
      "cell_type": "code",
      "source": [
        "from sklearn.model_selection import GridSearchCV,train_test_split\n",
        "from sklearn.metrics import confusion_matrix , accuracy_score\n",
        "from sklearn.datasets import load_breast_cancer\n",
        "from sklearn.preprocessing import StandardScaler\n",
        "from sklearn.neural_network import MLPClassifier\n",
        "from imblearn.pipeline import Pipeline\n",
        "from sklearn.utils import resample\n",
        "from sklearn.utils import class_weight\n",
        "from imblearn.over_sampling import SMOTE\n",
        "from imblearn.under_sampling import RandomUnderSampler\n",
        "import time\n",
        "import numpy as np"
      ],
      "metadata": {
        "id": "uLAMKihjOFdm"
      },
      "execution_count": 1,
      "outputs": []
    },
    {
      "cell_type": "code",
      "source": [
        "data = load_breast_cancer()\n",
        "scaler = StandardScaler()\n",
        "x = data.data\n",
        "y = data.target\n",
        "x = scaler.fit_transform(x)\n",
        "x_train,x_test,y_train,y_test = train_test_split(x,y,test_size = 0.3 ,random_state = 34)"
      ],
      "metadata": {
        "id": "gQvSDS8Hj25p"
      },
      "execution_count": 2,
      "outputs": []
    },
    {
      "cell_type": "code",
      "source": [
        "oversampler = SMOTE()\n",
        "x_train_re ,y_train_re = oversampler.fit_resample(x_train,y_train)\n",
        "undersampler = RandomUnderSampler()\n",
        "x_train_re, y_train_re = undersampler.fit_resample(x_train_re, y_train_re)\n",
        "scaler = StandardScaler()\n",
        "x_train_sc = scaler.fit_transform(x_train_re)\n",
        "x_test_sc = scaler.transform(x_test)\n",
        "\n",
        "\n",
        "np.isnan(y_train_re).sum()"
      ],
      "metadata": {
        "colab": {
          "base_uri": "https://localhost:8080/"
        },
        "id": "EP2c7XJjkXxY",
        "outputId": "4eed09b4-46fd-42ce-a77e-242a1f4865d2"
      },
      "execution_count": 3,
      "outputs": [
        {
          "output_type": "execute_result",
          "data": {
            "text/plain": [
              "0"
            ]
          },
          "metadata": {},
          "execution_count": 3
        }
      ]
    },
    {
      "cell_type": "code",
      "source": [
        "mlp = MLPClassifier(max_iter=1000, early_stopping=True, validation_fraction=0.1, tol=1e-4, n_iter_no_change=10)"
      ],
      "metadata": {
        "id": "qbR0LDXjk49h"
      },
      "execution_count": 4,
      "outputs": []
    },
    {
      "cell_type": "code",
      "source": [
        "param_grid = {\n",
        "    'hidden_layer_sizes': [(30,), (30,60,), (25, 50,15)],\n",
        "    'activation': ['relu', 'tanh'],\n",
        "    'learning_rate_init': [0.001, 0.01, 0.1],\n",
        "    'batch_size': [32, 64, 128]\n",
        "}"
      ],
      "metadata": {
        "id": "nYuGCIDGk-Q2"
      },
      "execution_count": 5,
      "outputs": []
    },
    {
      "cell_type": "code",
      "source": [
        "grid_search = GridSearchCV(estimator=mlp, param_grid=param_grid, cv=5 ,n_jobs = -1)\n",
        "start_time = time.time()\n",
        "grid_search.fit(x_train_sc, y_train_re)\n",
        "end_time = time.time()\n",
        "\n",
        "print(\"Time Take to train seconds. \",format(end_time - start_time))"
      ],
      "metadata": {
        "colab": {
          "base_uri": "https://localhost:8080/"
        },
        "id": "cDep4My9lA0I",
        "outputId": "d5e110c8-bc13-44b1-d5e1-7fd6e3a5e209"
      },
      "execution_count": 6,
      "outputs": [
        {
          "output_type": "stream",
          "name": "stdout",
          "text": [
            "Time Take to train seconds.  18.681212425231934\n"
          ]
        }
      ]
    },
    {
      "cell_type": "code",
      "source": [
        "best_params = grid_search.best_params_\n",
        "print(\"Best hyperparameters:\", best_params)"
      ],
      "metadata": {
        "colab": {
          "base_uri": "https://localhost:8080/"
        },
        "id": "KTYOSi_LlEM2",
        "outputId": "70d0463c-8da6-4594-c968-01ad6ce6bbc4"
      },
      "execution_count": 7,
      "outputs": [
        {
          "output_type": "stream",
          "name": "stdout",
          "text": [
            "Best hyperparameters: {'activation': 'relu', 'batch_size': 32, 'hidden_layer_sizes': (30, 60), 'learning_rate_init': 0.01}\n"
          ]
        }
      ]
    },
    {
      "cell_type": "code",
      "source": [
        "final_mlp = MLPClassifier(**best_params)\n",
        "final_mlp.fit(x_train_sc , y_train_re)"
      ],
      "metadata": {
        "colab": {
          "base_uri": "https://localhost:8080/",
          "height": 92
        },
        "id": "9Bq-pMAWmUdZ",
        "outputId": "6ab25daa-e72f-4d13-ee0b-0f818f7d049f"
      },
      "execution_count": 10,
      "outputs": [
        {
          "output_type": "execute_result",
          "data": {
            "text/plain": [
              "MLPClassifier(batch_size=32, hidden_layer_sizes=(30, 60),\n",
              "              learning_rate_init=0.01)"
            ],
            "text/html": [
              "<style>#sk-container-id-2 {color: black;background-color: white;}#sk-container-id-2 pre{padding: 0;}#sk-container-id-2 div.sk-toggleable {background-color: white;}#sk-container-id-2 label.sk-toggleable__label {cursor: pointer;display: block;width: 100%;margin-bottom: 0;padding: 0.3em;box-sizing: border-box;text-align: center;}#sk-container-id-2 label.sk-toggleable__label-arrow:before {content: \"▸\";float: left;margin-right: 0.25em;color: #696969;}#sk-container-id-2 label.sk-toggleable__label-arrow:hover:before {color: black;}#sk-container-id-2 div.sk-estimator:hover label.sk-toggleable__label-arrow:before {color: black;}#sk-container-id-2 div.sk-toggleable__content {max-height: 0;max-width: 0;overflow: hidden;text-align: left;background-color: #f0f8ff;}#sk-container-id-2 div.sk-toggleable__content pre {margin: 0.2em;color: black;border-radius: 0.25em;background-color: #f0f8ff;}#sk-container-id-2 input.sk-toggleable__control:checked~div.sk-toggleable__content {max-height: 200px;max-width: 100%;overflow: auto;}#sk-container-id-2 input.sk-toggleable__control:checked~label.sk-toggleable__label-arrow:before {content: \"▾\";}#sk-container-id-2 div.sk-estimator input.sk-toggleable__control:checked~label.sk-toggleable__label {background-color: #d4ebff;}#sk-container-id-2 div.sk-label input.sk-toggleable__control:checked~label.sk-toggleable__label {background-color: #d4ebff;}#sk-container-id-2 input.sk-hidden--visually {border: 0;clip: rect(1px 1px 1px 1px);clip: rect(1px, 1px, 1px, 1px);height: 1px;margin: -1px;overflow: hidden;padding: 0;position: absolute;width: 1px;}#sk-container-id-2 div.sk-estimator {font-family: monospace;background-color: #f0f8ff;border: 1px dotted black;border-radius: 0.25em;box-sizing: border-box;margin-bottom: 0.5em;}#sk-container-id-2 div.sk-estimator:hover {background-color: #d4ebff;}#sk-container-id-2 div.sk-parallel-item::after {content: \"\";width: 100%;border-bottom: 1px solid gray;flex-grow: 1;}#sk-container-id-2 div.sk-label:hover label.sk-toggleable__label {background-color: #d4ebff;}#sk-container-id-2 div.sk-serial::before {content: \"\";position: absolute;border-left: 1px solid gray;box-sizing: border-box;top: 0;bottom: 0;left: 50%;z-index: 0;}#sk-container-id-2 div.sk-serial {display: flex;flex-direction: column;align-items: center;background-color: white;padding-right: 0.2em;padding-left: 0.2em;position: relative;}#sk-container-id-2 div.sk-item {position: relative;z-index: 1;}#sk-container-id-2 div.sk-parallel {display: flex;align-items: stretch;justify-content: center;background-color: white;position: relative;}#sk-container-id-2 div.sk-item::before, #sk-container-id-2 div.sk-parallel-item::before {content: \"\";position: absolute;border-left: 1px solid gray;box-sizing: border-box;top: 0;bottom: 0;left: 50%;z-index: -1;}#sk-container-id-2 div.sk-parallel-item {display: flex;flex-direction: column;z-index: 1;position: relative;background-color: white;}#sk-container-id-2 div.sk-parallel-item:first-child::after {align-self: flex-end;width: 50%;}#sk-container-id-2 div.sk-parallel-item:last-child::after {align-self: flex-start;width: 50%;}#sk-container-id-2 div.sk-parallel-item:only-child::after {width: 0;}#sk-container-id-2 div.sk-dashed-wrapped {border: 1px dashed gray;margin: 0 0.4em 0.5em 0.4em;box-sizing: border-box;padding-bottom: 0.4em;background-color: white;}#sk-container-id-2 div.sk-label label {font-family: monospace;font-weight: bold;display: inline-block;line-height: 1.2em;}#sk-container-id-2 div.sk-label-container {text-align: center;}#sk-container-id-2 div.sk-container {/* jupyter's `normalize.less` sets `[hidden] { display: none; }` but bootstrap.min.css set `[hidden] { display: none !important; }` so we also need the `!important` here to be able to override the default hidden behavior on the sphinx rendered scikit-learn.org. See: https://github.com/scikit-learn/scikit-learn/issues/21755 */display: inline-block !important;position: relative;}#sk-container-id-2 div.sk-text-repr-fallback {display: none;}</style><div id=\"sk-container-id-2\" class=\"sk-top-container\"><div class=\"sk-text-repr-fallback\"><pre>MLPClassifier(batch_size=32, hidden_layer_sizes=(30, 60),\n",
              "              learning_rate_init=0.01)</pre><b>In a Jupyter environment, please rerun this cell to show the HTML representation or trust the notebook. <br />On GitHub, the HTML representation is unable to render, please try loading this page with nbviewer.org.</b></div><div class=\"sk-container\" hidden><div class=\"sk-item\"><div class=\"sk-estimator sk-toggleable\"><input class=\"sk-toggleable__control sk-hidden--visually\" id=\"sk-estimator-id-2\" type=\"checkbox\" checked><label for=\"sk-estimator-id-2\" class=\"sk-toggleable__label sk-toggleable__label-arrow\">MLPClassifier</label><div class=\"sk-toggleable__content\"><pre>MLPClassifier(batch_size=32, hidden_layer_sizes=(30, 60),\n",
              "              learning_rate_init=0.01)</pre></div></div></div></div></div>"
            ]
          },
          "metadata": {},
          "execution_count": 10
        }
      ]
    },
    {
      "cell_type": "code",
      "source": [
        "test_accuracy = final_mlp.score(x_test_sc,y_test)\n",
        "print(test_accuracy)"
      ],
      "metadata": {
        "colab": {
          "base_uri": "https://localhost:8080/"
        },
        "id": "ALDt3-ehmsnv",
        "outputId": "e86f19ad-e119-4f34-9b0e-6b5040108900"
      },
      "execution_count": 11,
      "outputs": [
        {
          "output_type": "stream",
          "name": "stdout",
          "text": [
            "0.9824561403508771\n"
          ]
        }
      ]
    },
    {
      "cell_type": "markdown",
      "source": [
        "# WITH CPU AS RUNTIME ENV\n",
        "**Time Take to train seconds.  28.231532096862793**\n",
        "\n",
        "**Best hyperparameters: {'activation': 'relu', 'batch_size': 64, 'hidden_layer_sizes': (30, 60), 'learning_rate_init': 0.01}**\n",
        "\n",
        "**Accuracy = 0.9766081871345029**\n"
      ],
      "metadata": {
        "id": "1HA4aHgr-OOj"
      }
    },
    {
      "cell_type": "markdown",
      "source": [
        "******"
      ],
      "metadata": {
        "id": "gBK_2TXo-OPq"
      }
    },
    {
      "cell_type": "markdown",
      "source": [
        "# WITH GPU AS RUNTIME ENV\n",
        "**Time Take to train seconds.  18.6812124252319343**\n",
        "\n",
        "**Best hyperparameters: {'activation': 'relu', 'batch_size': 32, 'hidden_layer_sizes': (30, 60), 'learning_rate_init': 0.01}**\n",
        "\n",
        "**Accuracy = 0.9824561403508771**\n"
      ],
      "metadata": {
        "id": "-QlamUbOAEpV"
      }
    }
  ]
}